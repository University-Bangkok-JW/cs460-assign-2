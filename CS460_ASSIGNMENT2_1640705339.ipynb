{
  "nbformat": 4,
  "nbformat_minor": 0,
  "metadata": {
    "colab": {
      "provenance": []
    },
    "kernelspec": {
      "name": "python3",
      "display_name": "Python 3"
    },
    "language_info": {
      "name": "python"
    }
  },
  "cells": [
    {
      "cell_type": "code",
      "execution_count": 2,
      "metadata": {
        "id": "M8S5pzQIeJUZ"
      },
      "outputs": [],
      "source": [
        "# Import module\n",
        "import random\n",
        "from collections import Counter\n",
        "import numpy as np"
      ]
    },
    {
      "cell_type": "code",
      "source": [
        "### Task: Probability Basics (Rolling a Die) ###\n",
        "def roll_die_simulation(n=10000):\n",
        "  die_rolls = [random.randint(1, 6) for _ in range(n)]\n",
        "  counts = Counter(die_rolls)\n",
        "\n",
        "  print(\"\\n--- Task 1: Dice Probability ---\")\n",
        "  for num in range(1, 7):\n",
        "    print(f'P {num} = {counts[num] / n:.4f}')"
      ],
      "metadata": {
        "id": "qU9T3O5geS6h"
      },
      "execution_count": 3,
      "outputs": []
    },
    {
      "cell_type": "code",
      "source": [
        "roll_die_simulation(10000)"
      ],
      "metadata": {
        "colab": {
          "base_uri": "https://localhost:8080/"
        },
        "id": "gHvgXa-YfGg9",
        "outputId": "47263042-a6c2-4806-b170-8abfc0154f80"
      },
      "execution_count": 4,
      "outputs": [
        {
          "output_type": "stream",
          "name": "stdout",
          "text": [
            "\n",
            "--- Task 1: Dice Probability ---\n",
            "P 1 = 0.1685\n",
            "P 2 = 0.1646\n",
            "P 3 = 0.1667\n",
            "P 4 = 0.1679\n",
            "P 5 = 0.1661\n",
            "P 6 = 0.1662\n"
          ]
        }
      ]
    }
  ]
}